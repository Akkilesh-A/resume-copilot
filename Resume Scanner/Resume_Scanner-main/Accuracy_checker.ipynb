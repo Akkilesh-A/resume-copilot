{
 "cells": [
  {
   "cell_type": "code",
   "execution_count": 8,
   "metadata": {},
   "outputs": [
    {
     "ename": "ModuleNotFoundError",
     "evalue": "No module named 'pandas'",
     "output_type": "error",
     "traceback": [
      "\u001b[0;31m---------------------------------------------------------------------------\u001b[0m",
      "\u001b[0;31mModuleNotFoundError\u001b[0m                       Traceback (most recent call last)",
      "Cell \u001b[0;32mIn[8], line 1\u001b[0m\n\u001b[0;32m----> 1\u001b[0m \u001b[38;5;28;01mimport\u001b[39;00m \u001b[38;5;21;01mpandas\u001b[39;00m \u001b[38;5;28;01mas\u001b[39;00m \u001b[38;5;21;01mpd\u001b[39;00m\n\u001b[1;32m      2\u001b[0m \u001b[38;5;28;01mimport\u001b[39;00m \u001b[38;5;21;01mnumpy\u001b[39;00m \u001b[38;5;28;01mas\u001b[39;00m \u001b[38;5;21;01mnp\u001b[39;00m\n\u001b[1;32m      4\u001b[0m \u001b[38;5;28;01mdef\u001b[39;00m \u001b[38;5;21mcalculate_model_accuracy\u001b[39m(test_dataset_path, model_function, threshold\u001b[38;5;241m=\u001b[39m\u001b[38;5;241m5\u001b[39m):\n\u001b[1;32m      5\u001b[0m     \u001b[38;5;66;03m# Load test dataset from CSV file\u001b[39;00m\n",
      "\u001b[0;31mModuleNotFoundError\u001b[0m: No module named 'pandas'"
     ]
    }
   ],
   "source": [
    "import pandas as pd\n",
    "import numpy as np\n",
    "\n",
    "def calculate_model_accuracy(test_dataset_path, model_function, threshold=5):\n",
    "    # Load test dataset from CSV file\n",
    "    test_data = pd.read_csv(test_dataset_path)\n",
    "    \n",
    "    # Initialize variables to calculate accuracy\n",
    "    total_predictions = len(test_data)\n",
    "    correct_predictions = 0\n",
    "    \n",
    "    # Iterate through the test dataset\n",
    "    for index, row in test_data.iterrows():\n",
    "        # Extract resume and job description from the dataset\n",
    "        resume_text = row['resume']\n",
    "        job_description = row['job_description']\n",
    "        actual_match_percentage = row['match_percentage']\n",
    "        \n",
    "        # Generate response from the model\n",
    "        response_text = model_function(resume_text, job_description)\n",
    "        \n",
    "        # Extract predicted match percentage from the response\n",
    "        match_percentage_str = response_text.split('\"Job Description Match\":\"')[1].split('\"')[0]\n",
    "        predicted_match_percentage = float(match_percentage_str.rstrip('%'))\n",
    "        \n",
    "        # Check if the prediction is close to the actual match percentage within the threshold\n",
    "        if np.isclose(predicted_match_percentage, actual_match_percentage, atol=threshold):\n",
    "            correct_predictions += 1\n",
    "    \n",
    "    # Calculate accuracy as the percentage of correct predictions\n",
    "    accuracy = (correct_predictions / total_predictions) * 100\n",
    "    \n",
    "    return accuracy\n",
    "\n",
    "# Specify the path to the test dataset CSV file\n",
    "test_dataset_path = 'Accuracy_check.csv'  # Replace with the actual path\n",
    "\n",
    "# Specify the model function (in your code, it's generate_response_from_gemini)\n",
    "def model_function(resume_text, job_description):\n",
    "    input_text = input_prompt_template.format(text=resume_text, job_description=job_description)\n",
    "    response_text = generate_response_from_gemini(input_text)\n",
    "    return response_text\n",
    "\n",
    "# Calculate and display model accuracy\n",
    "accuracy = calculate_model_accuracy(test_dataset_path, model_function)\n",
    "print(f\"Model Accuracy: {accuracy:.2f}%\")\n"
   ]
  }
 ],
 "metadata": {
  "kernelspec": {
   "display_name": "Python 3",
   "language": "python",
   "name": "python3"
  },
  "language_info": {
   "codemirror_mode": {
    "name": "ipython",
    "version": 3
   },
   "file_extension": ".py",
   "mimetype": "text/x-python",
   "name": "python",
   "nbconvert_exporter": "python",
   "pygments_lexer": "ipython3",
   "version": "3.9.6"
  }
 },
 "nbformat": 4,
 "nbformat_minor": 2
}
